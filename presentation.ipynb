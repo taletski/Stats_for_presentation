{
 "cells": [
  {
   "cell_type": "code",
   "execution_count": 1,
   "metadata": {
    "collapsed": true
   },
   "outputs": [],
   "source": [
    "import numpy as np\n",
    "import pandas as pd\n",
    "import matplotlib.pyplot as plt\n",
    "import re\n",
    "from unicodedata import normalize\n",
    "%matplotlib inline"
   ]
  },
  {
   "cell_type": "code",
   "execution_count": 2,
   "metadata": {
    "collapsed": true,
    "scrolled": true
   },
   "outputs": [],
   "source": [
    "df = pd.read_excel('all.xls')"
   ]
  },
  {
   "cell_type": "code",
   "execution_count": 3,
   "metadata": {},
   "outputs": [
    {
     "data": {
      "text/html": [
       "<div>\n",
       "<style scoped>\n",
       "    .dataframe tbody tr th:only-of-type {\n",
       "        vertical-align: middle;\n",
       "    }\n",
       "\n",
       "    .dataframe tbody tr th {\n",
       "        vertical-align: top;\n",
       "    }\n",
       "\n",
       "    .dataframe thead th {\n",
       "        text-align: right;\n",
       "    }\n",
       "</style>\n",
       "<table border=\"1\" class=\"dataframe\">\n",
       "  <thead>\n",
       "    <tr style=\"text-align: right;\">\n",
       "      <th></th>\n",
       "      <th>Mephi_Authors</th>\n",
       "      <th>Title</th>\n",
       "      <th>Source</th>\n",
       "      <th>Year</th>\n",
       "      <th>Volume</th>\n",
       "      <th>Issue</th>\n",
       "      <th>Pages</th>\n",
       "      <th>Collab</th>\n",
       "      <th>DOI</th>\n",
       "      <th>Scopus_Cited</th>\n",
       "      <th>...</th>\n",
       "      <th>Exists_Scopus</th>\n",
       "      <th>Exists_Wos</th>\n",
       "      <th>Date_Scopus</th>\n",
       "      <th>Date_Wos</th>\n",
       "      <th>URL</th>\n",
       "      <th>Center</th>\n",
       "      <th>Kaf</th>\n",
       "      <th>SAE</th>\n",
       "      <th>ASJC</th>\n",
       "      <th>Quartile</th>\n",
       "    </tr>\n",
       "  </thead>\n",
       "  <tbody>\n",
       "    <tr>\n",
       "      <th>0</th>\n",
       "      <td>Azarkin,M, Dremin,I, Leonidov,A, Antonov,A., B...</td>\n",
       "      <td>Combined Measurement of the Higgs Boson Mass i...</td>\n",
       "      <td>PHYSICAL REVIEW LETTERS</td>\n",
       "      <td>2015</td>\n",
       "      <td>114</td>\n",
       "      <td>19</td>\n",
       "      <td>NaN</td>\n",
       "      <td>ATLAS Collaboration</td>\n",
       "      <td>10.1103/PhysRevLett.114.191803</td>\n",
       "      <td>278.0</td>\n",
       "      <td>...</td>\n",
       "      <td>1</td>\n",
       "      <td>1</td>\n",
       "      <td>20160806</td>\n",
       "      <td>20150611</td>\n",
       "      <td>https://scopus.com/alert/results/record.uri?AI...</td>\n",
       "      <td>Фундаментальные исследования и физика частиц,...</td>\n",
       "      <td>040 (физики элементарных частиц),  040 (физик...</td>\n",
       "      <td>ИЯФИТ, ИЯФИТ, ИЯФИТ, , ИЯФИТ, ИЯФИТ, ИЯФИТ, ИЯ...</td>\n",
       "      <td>Medicine (all), Physics and Astronomy (all),</td>\n",
       "      <td>Q1</td>\n",
       "    </tr>\n",
       "    <tr>\n",
       "      <th>1</th>\n",
       "      <td>Mizuk,R,</td>\n",
       "      <td>QCD and strongly coupled gauge theories: chall...</td>\n",
       "      <td>EUROPEAN PHYSICAL JOURNAL C</td>\n",
       "      <td>2014</td>\n",
       "      <td>74</td>\n",
       "      <td>10</td>\n",
       "      <td>NaN</td>\n",
       "      <td>NaN</td>\n",
       "      <td>10.1140/epjc/s10052-014-2981-5</td>\n",
       "      <td>171.0</td>\n",
       "      <td>...</td>\n",
       "      <td>1</td>\n",
       "      <td>1</td>\n",
       "      <td>20150112</td>\n",
       "      <td>20150108</td>\n",
       "      <td>https://scopus.com/alert/results/record.url?AI...</td>\n",
       "      <td>Наноструктурная электроника,</td>\n",
       "      <td>007 (экспериментальной ядерной физики и космо...</td>\n",
       "      <td>ИЯФИТ, , ,</td>\n",
       "      <td>Engineering (miscellaneous), Physics and Astro...</td>\n",
       "      <td>Q1</td>\n",
       "    </tr>\n",
       "    <tr>\n",
       "      <th>2</th>\n",
       "      <td>Shelyakov,A.,</td>\n",
       "      <td>Violation of the sequence of martensite crysta...</td>\n",
       "      <td>Phase Transitions</td>\n",
       "      <td>2017</td>\n",
       "      <td>90</td>\n",
       "      <td>3</td>\n",
       "      <td>289-298</td>\n",
       "      <td>0</td>\n",
       "      <td>10.1080/01411594.2016.1180517</td>\n",
       "      <td>0.0</td>\n",
       "      <td>...</td>\n",
       "      <td>1</td>\n",
       "      <td>0</td>\n",
       "      <td>20160513</td>\n",
       "      <td>0</td>\n",
       "      <td>https://scopus.com/alert/results/record.uri?AI...</td>\n",
       "      <td>Плазменные, лазерные исследования и технологии,</td>\n",
       "      <td>070 (физики твердого тела и наносистем),  ,  ,</td>\n",
       "      <td>ЛАПЛАЗ, , ,</td>\n",
       "      <td>Instrumentation, Materials Science (all),</td>\n",
       "      <td>Q2</td>\n",
       "    </tr>\n",
       "    <tr>\n",
       "      <th>3</th>\n",
       "      <td>Kudryashov,N.A., Volkov,A.K.,</td>\n",
       "      <td>The fifth-order partial differential equation ...</td>\n",
       "      <td>Communications in Nonlinear Science and Numeri...</td>\n",
       "      <td>2017</td>\n",
       "      <td>42</td>\n",
       "      <td>NaN</td>\n",
       "      <td>491-501</td>\n",
       "      <td>NaN</td>\n",
       "      <td>10.1016/j.cnsns.2016.06.003</td>\n",
       "      <td>2.0</td>\n",
       "      <td>...</td>\n",
       "      <td>1</td>\n",
       "      <td>1</td>\n",
       "      <td>20160702</td>\n",
       "      <td>20160923</td>\n",
       "      <td>https://scopus.com/alert/results/record.uri?AI...</td>\n",
       "      <td>Прикладная математика и теоретическая физика,...</td>\n",
       "      <td>031 (прикладной математики),  Факультет: (Дру...</td>\n",
       "      <td>ИИКС, , , , , ,</td>\n",
       "      <td>Numerical Analysis, Modeling and Simulation, A...</td>\n",
       "      <td>Q1</td>\n",
       "    </tr>\n",
       "    <tr>\n",
       "      <th>4</th>\n",
       "      <td>Minin,P.,</td>\n",
       "      <td>Sharpness estimation in facial images by spect...</td>\n",
       "      <td>Signal, Image and Video Processing</td>\n",
       "      <td>2017</td>\n",
       "      <td>11</td>\n",
       "      <td>1</td>\n",
       "      <td>163-170</td>\n",
       "      <td>NaN</td>\n",
       "      <td>10.1007/s11760-016-0915-4</td>\n",
       "      <td>0.0</td>\n",
       "      <td>...</td>\n",
       "      <td>1</td>\n",
       "      <td>1</td>\n",
       "      <td>20160715</td>\n",
       "      <td>20170216</td>\n",
       "      <td>https://scopus.com/alert/results/record.uri?AI...</td>\n",
       "      <td>,</td>\n",
       "      <td>Нет данных об авторе,  ,  ,</td>\n",
       "      <td>, , ,</td>\n",
       "      <td>Signal Processing, Electrical and Electronic E...</td>\n",
       "      <td>Q2</td>\n",
       "    </tr>\n",
       "  </tbody>\n",
       "</table>\n",
       "<p>5 rows × 23 columns</p>\n",
       "</div>"
      ],
      "text/plain": [
       "                                       Mephi_Authors  \\\n",
       "0  Azarkin,M, Dremin,I, Leonidov,A, Antonov,A., B...   \n",
       "1                                          Mizuk,R,    \n",
       "2                                     Shelyakov,A.,    \n",
       "3                     Kudryashov,N.A., Volkov,A.K.,    \n",
       "4                                         Minin,P.,    \n",
       "\n",
       "                                               Title  \\\n",
       "0  Combined Measurement of the Higgs Boson Mass i...   \n",
       "1  QCD and strongly coupled gauge theories: chall...   \n",
       "2  Violation of the sequence of martensite crysta...   \n",
       "3  The fifth-order partial differential equation ...   \n",
       "4  Sharpness estimation in facial images by spect...   \n",
       "\n",
       "                                              Source  Year Volume Issue  \\\n",
       "0                            PHYSICAL REVIEW LETTERS  2015    114    19   \n",
       "1                        EUROPEAN PHYSICAL JOURNAL C  2014     74    10   \n",
       "2                                  Phase Transitions  2017     90     3   \n",
       "3  Communications in Nonlinear Science and Numeri...  2017     42   NaN   \n",
       "4                 Signal, Image and Video Processing  2017     11     1   \n",
       "\n",
       "     Pages               Collab                             DOI  Scopus_Cited  \\\n",
       "0      NaN  ATLAS Collaboration  10.1103/PhysRevLett.114.191803         278.0   \n",
       "1      NaN                  NaN  10.1140/epjc/s10052-014-2981-5         171.0   \n",
       "2  289-298                    0   10.1080/01411594.2016.1180517           0.0   \n",
       "3  491-501                  NaN     10.1016/j.cnsns.2016.06.003           2.0   \n",
       "4  163-170                  NaN       10.1007/s11760-016-0915-4           0.0   \n",
       "\n",
       "    ...     Exists_Scopus Exists_Wos Date_Scopus  Date_Wos  \\\n",
       "0   ...                 1          1    20160806  20150611   \n",
       "1   ...                 1          1    20150112  20150108   \n",
       "2   ...                 1          0    20160513         0   \n",
       "3   ...                 1          1    20160702  20160923   \n",
       "4   ...                 1          1    20160715  20170216   \n",
       "\n",
       "                                                 URL  \\\n",
       "0  https://scopus.com/alert/results/record.uri?AI...   \n",
       "1  https://scopus.com/alert/results/record.url?AI...   \n",
       "2  https://scopus.com/alert/results/record.uri?AI...   \n",
       "3  https://scopus.com/alert/results/record.uri?AI...   \n",
       "4  https://scopus.com/alert/results/record.uri?AI...   \n",
       "\n",
       "                                              Center  \\\n",
       "0   Фундаментальные исследования и физика частиц,...   \n",
       "1                      Наноструктурная электроника,    \n",
       "2   Плазменные, лазерные исследования и технологии,    \n",
       "3   Прикладная математика и теоретическая физика,...   \n",
       "4                                                 ,    \n",
       "\n",
       "                                                 Kaf  \\\n",
       "0   040 (физики элементарных частиц),  040 (физик...   \n",
       "1   007 (экспериментальной ядерной физики и космо...   \n",
       "2    070 (физики твердого тела и наносистем),  ,  ,    \n",
       "3   031 (прикладной математики),  Факультет: (Дру...   \n",
       "4                       Нет данных об авторе,  ,  ,    \n",
       "\n",
       "                                                 SAE  \\\n",
       "0  ИЯФИТ, ИЯФИТ, ИЯФИТ, , ИЯФИТ, ИЯФИТ, ИЯФИТ, ИЯ...   \n",
       "1                                        ИЯФИТ, , ,    \n",
       "2                                       ЛАПЛАЗ, , ,    \n",
       "3                                   ИИКС, , , , , ,    \n",
       "4                                             , , ,    \n",
       "\n",
       "                                                ASJC Quartile  \n",
       "0      Medicine (all), Physics and Astronomy (all),        Q1  \n",
       "1  Engineering (miscellaneous), Physics and Astro...       Q1  \n",
       "2         Instrumentation, Materials Science (all),        Q2  \n",
       "3  Numerical Analysis, Modeling and Simulation, A...       Q1  \n",
       "4  Signal Processing, Electrical and Electronic E...       Q2  \n",
       "\n",
       "[5 rows x 23 columns]"
      ]
     },
     "execution_count": 3,
     "metadata": {},
     "output_type": "execute_result"
    }
   ],
   "source": [
    "df.head()"
   ]
  },
  {
   "cell_type": "markdown",
   "metadata": {},
   "source": [
    "## Count publications for ech kaf in each category"
   ]
  },
  {
   "cell_type": "code",
   "execution_count": 4,
   "metadata": {
    "collapsed": true
   },
   "outputs": [],
   "source": [
    "def get_elements(regex, string, default='N/A'):\n",
    "    #Returns a list of substrings that match the regex attribute\n",
    "    try: \n",
    "        result = re.findall(regex, string)\n",
    "    except TypeError:\n",
    "        result = [default,]\n",
    "    return result"
   ]
  },
  {
   "cell_type": "code",
   "execution_count": 5,
   "metadata": {
    "collapsed": true
   },
   "outputs": [],
   "source": [
    "kafs_regex = '[\\D][0-9][0-9][0-9][\\D]|[0-9][0-9][0-9][0-9]|Нет данных об авторе' # ADD \"not numbers\"\n",
    "\n",
    "def make_list(regex, data_frame, label):\n",
    "    #Returns a list of unique elements matching the regex and \n",
    "    #pesented in all rows of specified coloumn (label) of the data_frame\n",
    "    seq = []\n",
    "    for field in data_frame[label]:\n",
    "        elements = get_elements(regex, field)\n",
    "        for el in elements:\n",
    "            try:\n",
    "                seq.index(el)\n",
    "            except ValueError:\n",
    "                seq.append(el)            \n",
    "    return seq\n",
    "\n",
    "def make_dict(regex, data_frame, label, init=0):\n",
    "    kaf_seq = make_list(regex, data_frame, label)\n",
    "    unique_kaf_dict = dict.fromkeys(kaf_seq, init)\n",
    "    return unique_kaf_dict"
   ]
  },
  {
   "cell_type": "code",
   "execution_count": 6,
   "metadata": {
    "collapsed": true
   },
   "outputs": [],
   "source": [
    "def is_inside(list_to_check, val_to_find):\n",
    "    try:\n",
    "        list_to_check.index(val_to_find)\n",
    "    except (ValueError,AttributeError) as e:\n",
    "        return False\n",
    "    else:\n",
    "        return True"
   ]
  },
  {
   "cell_type": "code",
   "execution_count": 10,
   "metadata": {
    "collapsed": true
   },
   "outputs": [],
   "source": [
    "def count_by_category(data_frame, category, cat_label, label='Kaf'):\n",
    "    #returns a dict for Q with publications amount for each kaf\n",
    "    unique_kaf_dict = make_dict(kafs_regex, df, label='Kaf')\n",
    "    for idx,row in enumerate(data_frame[label]):\n",
    "        #if data_frame[cat_label][idx]==category: # NOT SUFFICIENT as there can be more than one category in a row\n",
    "        if is_inside(data_frame[cat_label][idx], category):\n",
    "            kafs_found = get_elements(kafs_regex, row)\n",
    "            for kaf in unique_kaf_dict.keys():\n",
    "                try:\n",
    "                    kafs_found.index(kaf)\n",
    "                except ValueError:\n",
    "                    {}\n",
    "                else:\n",
    "                    unique_kaf_dict[kaf] += 1\n",
    "    return unique_kaf_dict"
   ]
  },
  {
   "cell_type": "code",
   "execution_count": 13,
   "metadata": {},
   "outputs": [],
   "source": [
    "quartile_regex = 'Q[1-4]|Нет квартиля'\n",
    "field_of_science_regex = \"[\\S|\\s]+?[,]|[\\S|\\s]+\"\n",
    "\n",
    "label = 'ASJC'\n",
    "\n",
    "def make_dict_by_category(regex, data_frame, cat_label='Quartile'):\n",
    "    #Returns a dictionary where keys are the category values \n",
    "    #found in data_frame.\n",
    "    #Values of the returned dict are dicts of counted publications \n",
    "    #for corresponding category\n",
    "    result = {}\n",
    "    seq = make_list(regex, data_frame, cat_label)\n",
    "    for category in seq:\n",
    "        result[category] = count_by_category(data_frame, category, cat_label)\n",
    "    return result\n",
    "\n",
    "counted_by_field = make_dict_by_category(field_of_science_regex, df, label)"
   ]
  },
  {
   "cell_type": "markdown",
   "metadata": {},
   "source": [
    "### Writing results itno xls file"
   ]
  },
  {
   "cell_type": "code",
   "execution_count": 14,
   "metadata": {
    "collapsed": true
   },
   "outputs": [],
   "source": [
    "result = pd.DataFrame(counted_by_field)\n",
    "result.to_csv('counted_by_ASJC.csv')"
   ]
  },
  {
   "cell_type": "markdown",
   "metadata": {},
   "source": [
    "### Plot"
   ]
  },
  {
   "cell_type": "code",
   "execution_count": null,
   "metadata": {},
   "outputs": [],
   "source": [
    "fig = plt.figure()\n",
    "\n",
    "category = 'Q4'\n",
    "plot = plt.pie(list(publications[category].values()), labels=publications[category].keys(), shadow=True, labeldistance=1.3)"
   ]
  },
  {
   "cell_type": "markdown",
   "metadata": {
    "collapsed": true
   },
   "source": [
    "## Count number of interactions between kafs\n"
   ]
  },
  {
   "cell_type": "code",
   "execution_count": null,
   "metadata": {
    "collapsed": true
   },
   "outputs": [],
   "source": [
    "kafs_regex = '[0-9][0-9][0-9]|[0-9][0-9][0-9][0-9]'\n",
    "def is_presented(list_to_inspect, kaf_to_find):\n",
    "    try:\n",
    "        list_to_inspect.index(kaf_to_find)\n",
    "    except ValueError:\n",
    "        return False\n",
    "    else:\n",
    "        return True\n",
    "\n",
    "def count_unique_elements_for(kaf):\n",
    "    result_dict = make_dict(kafs_regex, df, 'Kaf')\n",
    "    for row in df['Kaf']:\n",
    "        kafs_found = get_elements(kafs_regex, row)\n",
    "        if is_presented(kafs_found, kaf):\n",
    "            for category in result_dict.keys():\n",
    "                result_dict[category] += 1*is_presented(kafs_found, category)\n",
    "    return result_dict\n",
    "\n",
    "def count_interactions(data_frame, label):\n",
    "    # Returns a dict of dicts with number of interactions with each kaf\n",
    "    kaf_dict = make_dict(kafs_regex, df, label='Kaf')\n",
    "    for kaf in kaf_dict.keys():\n",
    "        kaf_dict[kaf] = count_unique_elements_for(kaf)\n",
    "        delete_NA = kaf_dict[kaf].pop('N/A')\n",
    "    return kaf_dict\n",
    "\n",
    "result = count_interactions(df, 'Kaf')"
   ]
  },
  {
   "cell_type": "markdown",
   "metadata": {},
   "source": [
    "## Writing results itno xls file"
   ]
  },
  {
   "cell_type": "code",
   "execution_count": null,
   "metadata": {
    "collapsed": true
   },
   "outputs": [],
   "source": [
    "result = pd.DataFrame(result)\n",
    "result.to_csv('result.csv')"
   ]
  }
 ],
 "metadata": {
  "kernelspec": {
   "display_name": "Python 3",
   "language": "python",
   "name": "python3"
  },
  "language_info": {
   "codemirror_mode": {
    "name": "ipython",
    "version": 3
   },
   "file_extension": ".py",
   "mimetype": "text/x-python",
   "name": "python",
   "nbconvert_exporter": "python",
   "pygments_lexer": "ipython3",
   "version": "3.4.3"
  }
 },
 "nbformat": 4,
 "nbformat_minor": 2
}
